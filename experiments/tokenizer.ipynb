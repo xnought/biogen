{
 "cells": [
  {
   "cell_type": "code",
   "execution_count": 2,
   "metadata": {},
   "outputs": [],
   "source": [
    "from datasets import load_dataset "
   ]
  },
  {
   "cell_type": "code",
   "execution_count": 3,
   "metadata": {},
   "outputs": [
    {
     "name": "stdout",
     "output_type": "stream",
     "text": [
      "DatasetDict({\n",
      "    train: Dataset({\n",
      "        features: ['doi', 'title', 'authors', 'author_corresponding', 'author_corresponding_institution', 'date', 'version', 'type', 'license', 'category', 'jatsxml', 'abstract', 'published', 'server'],\n",
      "        num_rows: 353648\n",
      "    })\n",
      "})\n"
     ]
    }
   ],
   "source": [
    "ds = load_dataset(\"laion/biorXiv_metadata\")\n",
    "print(ds)"
   ]
  },
  {
   "cell_type": "code",
   "execution_count": 97,
   "metadata": {},
   "outputs": [],
   "source": [
    "df = ds[\"train\"].to_pandas()"
   ]
  },
  {
   "cell_type": "code",
   "execution_count": 98,
   "metadata": {},
   "outputs": [],
   "source": [
    "df = df.drop_duplicates(\"doi\").copy()"
   ]
  },
  {
   "cell_type": "code",
   "execution_count": 99,
   "metadata": {},
   "outputs": [],
   "source": [
    "def tokenizer_encode(strings: list[str], alphabet: str):\n",
    "\tindex_map = {\n",
    "\t\t\"<s>\": 0,\n",
    "\t\t\"<e>\": 1,\n",
    "\t}\n",
    "\tfor i in range(len(alphabet)):\n",
    "\t\tindex_map[alphabet[i]] = i+2\n",
    "\t\n",
    "\tres = []\n",
    "\tfor s in strings:\n",
    "\t\tsub = [0] # <s>\n",
    "\t\tfor c in s:\n",
    "\t\t\tsub.append(index_map[c])\n",
    "\t\tsub.append(1) # <e>\n",
    "\t\tres.append(sub)\n",
    "\treturn res\n",
    "\n",
    "def tokenizer_decode(idxs: list[list[int]], alphabet: str):\n",
    "\treverse_index_map = [\"<s>\", \"<e>\"]\n",
    "\treverse_index_map.extend(alphabet)\n",
    "\n",
    "\n",
    "\tres = []\n",
    "\tfor sub in idxs:\n",
    "\t\tstring = \"\"\n",
    "\t\tfor i in sub:\n",
    "\t\t\tstring += reverse_index_map[i]\n",
    "\t\tres.append(string)\n",
    "\treturn res\n",
    "\n",
    "alphabet=[' ','a','b','c','d','e','f','g','h','i','j','k','l','m','n','o','p','q','r','s','t','u','v','w','x','y','z','?','!','.',',',':',';','&','%','1','2','3','4','5','6','7','8','9','0', '-']"
   ]
  },
  {
   "cell_type": "code",
   "execution_count": 100,
   "metadata": {},
   "outputs": [],
   "source": [
    "import re\n",
    "def parse_title(x: str, alphabet: set[str]):\n",
    "\tx = re.sub(r'\\s', ' ', x)\n",
    "\tx = re.sub(r'–', '-', x)\n",
    "\tx = x.lower()\n",
    "\tres = \"\"\n",
    "\tfor c in x:\n",
    "\t\tif c in alphabet:\n",
    "\t\t\tres += c\n",
    "\treturn res\n",
    "\n",
    "alphabet=[' ','a','b','c','d','e','f','g','h','i','j','k','l','m','n','o','p','q','r','s','t','u','v','w','x','y','z','?','.',',',':','&','%','1','2','3','4','5','6','7','8','9','0']\n",
    "set_alpha = set(alphabet)\n",
    "\n",
    "\n",
    "df[\"parsed_title\"] = df[\"title\"].apply(lambda x: parse_title(x, set_alpha))"
   ]
  },
  {
   "cell_type": "code",
   "execution_count": 104,
   "metadata": {},
   "outputs": [
    {
     "data": {
      "text/html": [
       "<div>\n",
       "<style scoped>\n",
       "    .dataframe tbody tr th:only-of-type {\n",
       "        vertical-align: middle;\n",
       "    }\n",
       "\n",
       "    .dataframe tbody tr th {\n",
       "        vertical-align: top;\n",
       "    }\n",
       "\n",
       "    .dataframe thead th {\n",
       "        text-align: right;\n",
       "    }\n",
       "</style>\n",
       "<table border=\"1\" class=\"dataframe\">\n",
       "  <thead>\n",
       "    <tr style=\"text-align: right;\">\n",
       "      <th></th>\n",
       "      <th>doi</th>\n",
       "      <th>parsed_title</th>\n",
       "    </tr>\n",
       "  </thead>\n",
       "  <tbody>\n",
       "    <tr>\n",
       "      <th>0</th>\n",
       "      <td>10.1101/001891</td>\n",
       "      <td>population genomics of saccharomyces cerevisia...</td>\n",
       "    </tr>\n",
       "    <tr>\n",
       "      <th>1</th>\n",
       "      <td>10.1101/001867</td>\n",
       "      <td>estimating seed bank accumulation and dynamics...</td>\n",
       "    </tr>\n",
       "    <tr>\n",
       "      <th>2</th>\n",
       "      <td>10.1101/001875</td>\n",
       "      <td>how and where to look for trnas in metazoan mi...</td>\n",
       "    </tr>\n",
       "    <tr>\n",
       "      <th>4</th>\n",
       "      <td>10.1101/001883</td>\n",
       "      <td>tracking global changes induced in the cd4 t c...</td>\n",
       "    </tr>\n",
       "    <tr>\n",
       "      <th>5</th>\n",
       "      <td>10.1101/001909</td>\n",
       "      <td>the shrinking human protein coding complement:...</td>\n",
       "    </tr>\n",
       "    <tr>\n",
       "      <th>...</th>\n",
       "      <td>...</td>\n",
       "      <td>...</td>\n",
       "    </tr>\n",
       "    <tr>\n",
       "      <th>353643</th>\n",
       "      <td>10.1101/2024.11.08.622749</td>\n",
       "      <td>identification of covalent cyclic peptide inhi...</td>\n",
       "    </tr>\n",
       "    <tr>\n",
       "      <th>353644</th>\n",
       "      <td>10.1101/2024.11.08.622755</td>\n",
       "      <td>carotenoid pigments enhance rhodopsinmediated ...</td>\n",
       "    </tr>\n",
       "    <tr>\n",
       "      <th>353645</th>\n",
       "      <td>10.1101/2024.11.08.622053</td>\n",
       "      <td>a bacterial cell wall repair and modification ...</td>\n",
       "    </tr>\n",
       "    <tr>\n",
       "      <th>353646</th>\n",
       "      <td>10.1101/2024.11.09.622756</td>\n",
       "      <td>characterization of a gpsbassociated regulator...</td>\n",
       "    </tr>\n",
       "    <tr>\n",
       "      <th>353647</th>\n",
       "      <td>10.1101/2024.11.07.622502</td>\n",
       "      <td>bayesian nonparametric analysis of residence t...</td>\n",
       "    </tr>\n",
       "  </tbody>\n",
       "</table>\n",
       "<p>256428 rows × 2 columns</p>\n",
       "</div>"
      ],
      "text/plain": [
       "                              doi  \\\n",
       "0                  10.1101/001891   \n",
       "1                  10.1101/001867   \n",
       "2                  10.1101/001875   \n",
       "4                  10.1101/001883   \n",
       "5                  10.1101/001909   \n",
       "...                           ...   \n",
       "353643  10.1101/2024.11.08.622749   \n",
       "353644  10.1101/2024.11.08.622755   \n",
       "353645  10.1101/2024.11.08.622053   \n",
       "353646  10.1101/2024.11.09.622756   \n",
       "353647  10.1101/2024.11.07.622502   \n",
       "\n",
       "                                             parsed_title  \n",
       "0       population genomics of saccharomyces cerevisia...  \n",
       "1       estimating seed bank accumulation and dynamics...  \n",
       "2       how and where to look for trnas in metazoan mi...  \n",
       "4       tracking global changes induced in the cd4 t c...  \n",
       "5       the shrinking human protein coding complement:...  \n",
       "...                                                   ...  \n",
       "353643  identification of covalent cyclic peptide inhi...  \n",
       "353644  carotenoid pigments enhance rhodopsinmediated ...  \n",
       "353645  a bacterial cell wall repair and modification ...  \n",
       "353646  characterization of a gpsbassociated regulator...  \n",
       "353647  bayesian nonparametric analysis of residence t...  \n",
       "\n",
       "[256428 rows x 2 columns]"
      ]
     },
     "execution_count": 104,
     "metadata": {},
     "output_type": "execute_result"
    }
   ],
   "source": [
    "subdf = df[[\"doi\", \"parsed_title\"]]\n",
    "subdf"
   ]
  },
  {
   "cell_type": "code",
   "execution_count": null,
   "metadata": {},
   "outputs": [],
   "source": []
  }
 ],
 "metadata": {
  "kernelspec": {
   "display_name": ".venv",
   "language": "python",
   "name": "python3"
  },
  "language_info": {
   "codemirror_mode": {
    "name": "ipython",
    "version": 3
   },
   "file_extension": ".py",
   "mimetype": "text/x-python",
   "name": "python",
   "nbconvert_exporter": "python",
   "pygments_lexer": "ipython3",
   "version": "3.10.16"
  }
 },
 "nbformat": 4,
 "nbformat_minor": 2
}
