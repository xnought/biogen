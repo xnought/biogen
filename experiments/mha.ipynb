{
 "cells": [
  {
   "cell_type": "code",
   "execution_count": 1,
   "metadata": {},
   "outputs": [],
   "source": [
    "import torch"
   ]
  },
  {
   "cell_type": "code",
   "execution_count": 30,
   "metadata": {},
   "outputs": [],
   "source": [
    "torch.manual_seed(0)\n",
    "\n",
    "d_k = 3\n",
    "B = 2\n",
    "N = 5\n",
    "T = 6\n",
    "n_heads = 4\n",
    "\n",
    "Q = torch.randn((B, n_heads, N, d_k))\n",
    "K = torch.randn((B, n_heads, N, d_k))\n",
    "V = torch.randn((B, n_heads, N, d_k))"
   ]
  },
  {
   "cell_type": "code",
   "execution_count": 31,
   "metadata": {},
   "outputs": [
    {
     "data": {
      "text/plain": [
       "torch.Size([2, 4, 5, 3])"
      ]
     },
     "execution_count": 31,
     "metadata": {},
     "output_type": "execute_result"
    }
   ],
   "source": [
    "def attn(Q, K, V, mask):\n",
    "\tQKT = (Q@K.transpose(-2,-1)) * (d_k**-.5)\n",
    "\tmasked_QKT = QKT.masked_fill(mask, float(\"-inf\"))\n",
    "\tweights = torch.softmax(masked_QKT, dim=-1)\n",
    "\treturn weights@V\n",
    "\n",
    "attn(Q, K, V, mask=torch.triu(torch.ones((N, N), dtype=torch.bool), diagonal=1)).shape"
   ]
  },
  {
   "cell_type": "markdown",
   "metadata": {},
   "source": [
    "Just to check that the @ operator does a batched matrix multiply how I like let's unroll and use BMM"
   ]
  },
  {
   "cell_type": "code",
   "execution_count": 32,
   "metadata": {},
   "outputs": [],
   "source": [
    "torch.manual_seed(0)\n",
    "a = torch.randn((B, n_heads, N, d_k))\n",
    "b = torch.randn((B, n_heads, N, d_k))"
   ]
  },
  {
   "cell_type": "code",
   "execution_count": 33,
   "metadata": {},
   "outputs": [
    {
     "data": {
      "text/plain": [
       "True"
      ]
     },
     "execution_count": 33,
     "metadata": {},
     "output_type": "execute_result"
    }
   ],
   "source": [
    "a_unrolled = a.view((-1, N, d_k))\n",
    "b_unrolled = b.view((-1, N, d_k))\n",
    "bmm = torch.bmm(a_unrolled, b_unrolled.transpose(-2, -1)).view((B, n_heads, N, N)).contiguous()\n",
    "regular = a@b.transpose(-2, -1)\n",
    "torch.allclose(bmm, regular)"
   ]
  }
 ],
 "metadata": {
  "kernelspec": {
   "display_name": ".venv",
   "language": "python",
   "name": "python3"
  },
  "language_info": {
   "codemirror_mode": {
    "name": "ipython",
    "version": 3
   },
   "file_extension": ".py",
   "mimetype": "text/x-python",
   "name": "python",
   "nbconvert_exporter": "python",
   "pygments_lexer": "ipython3",
   "version": "3.10.16"
  }
 },
 "nbformat": 4,
 "nbformat_minor": 2
}
