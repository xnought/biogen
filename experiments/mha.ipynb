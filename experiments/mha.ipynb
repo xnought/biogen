{
 "cells": [
  {
   "cell_type": "code",
   "execution_count": 1,
   "metadata": {},
   "outputs": [],
   "source": [
    "import torch"
   ]
  },
  {
   "cell_type": "code",
   "execution_count": 30,
   "metadata": {},
   "outputs": [],
   "source": [
    "torch.manual_seed(0)\n",
    "\n",
    "d_k = 3\n",
    "B = 2\n",
    "N = 5\n",
    "T = 6\n",
    "n_heads = 4\n",
    "\n",
    "Q = torch.randn((B, n_heads, N, d_k))\n",
    "K = torch.randn((B, n_heads, N, d_k))\n",
    "V = torch.randn((B, n_heads, N, d_k))"
   ]
  },
  {
   "cell_type": "code",
   "execution_count": 31,
   "metadata": {},
   "outputs": [
    {
     "data": {
      "text/plain": [
       "torch.Size([2, 4, 5, 3])"
      ]
     },
     "execution_count": 31,
     "metadata": {},
     "output_type": "execute_result"
    }
   ],
   "source": [
    "def attn(Q, K, V, mask):\n",
    "\tQKT = (Q@K.transpose(-2,-1)) * (d_k**-.5)\n",
    "\tmasked_QKT = QKT.masked_fill(mask, float(\"-inf\"))\n",
    "\tweights = torch.softmax(masked_QKT, dim=-1)\n",
    "\treturn weights@V\n",
    "\n",
    "attn(Q, K, V, mask=torch.triu(torch.ones((N, N), dtype=torch.bool), diagonal=1)).shape"
   ]
  },
  {
   "cell_type": "markdown",
   "metadata": {},
   "source": [
    "Just to check that the @ operator does a batched matrix multiply how I like let's unroll and use BMM"
   ]
  },
  {
   "cell_type": "code",
   "execution_count": 32,
   "metadata": {},
   "outputs": [],
   "source": [
    "torch.manual_seed(0)\n",
    "a = torch.randn((B, n_heads, N, d_k))\n",
    "b = torch.randn((B, n_heads, N, d_k))"
   ]
  },
  {
   "cell_type": "code",
   "execution_count": 33,
   "metadata": {},
   "outputs": [
    {
     "data": {
      "text/plain": [
       "True"
      ]
     },
     "execution_count": 33,
     "metadata": {},
     "output_type": "execute_result"
    }
   ],
   "source": [
    "a_unrolled = a.view((-1, N, d_k))\n",
    "b_unrolled = b.view((-1, N, d_k))\n",
    "bmm = torch.bmm(a_unrolled, b_unrolled.transpose(-2, -1)).view((B, n_heads, N, N)).contiguous()\n",
    "regular = a@b.transpose(-2, -1)\n",
    "torch.allclose(bmm, regular)"
   ]
  },
  {
   "cell_type": "markdown",
   "metadata": {},
   "source": [
    "But how do i encode the Q weights to which we get Q from?\n",
    "\n",
    "It was super simple with one headed attention.\n",
    "\n",
    "We just do `torch.nn.Linear()` and project the $(B, N, T)$ to $(B, N, d_k)$ which was as simple as \n",
    "`torch.nn.Linear(T, d_k)` then later calling that function.\n",
    "\n",
    "Given multiple heads it gets a bit more complicated. But in general, I'm just trying to apply this transformation n_heads number of times.\n",
    "\n",
    "The input stays the same as $(B, N, T)$ but now I want to project that into $(B, \\text{n\\_heads}, N, d_k)$ which is just the same but applied n_heads number of times.\n",
    "\n",
    "So what I need is first weights that represent the projection. Will be shaped as $(T, d_k)$\n",
    "\n",
    "In the original case, $(B, N, T)$ is matrix multiplied with $(T, d_k)$ to get $(B, N, d_k)$. So I want to do this n_heads times so I'll create n_heads weight matrices as (n_heads, T, d_k).\n",
    "\n",
    "So essentially I want \n",
    "\n",
    "```python\n",
    "w = torch.zeros((n_heads, T, d_k))\n",
    "for i in range(n_heads):\n",
    "\tQ[i, ...] = x@w[i, ...]\n",
    "```\n",
    "\n",
    "Is there an operation to do that? What I could do is unroll the dimension leading up to it, then batch matmul\n",
    "\n",
    "For example make the Q matrix (T, n_heads x d_k) and the x matrix (B x N, T)\n",
    "\n",
    "So when I matmul x and Q I get (B x N, n_heads x d_k) and just reshape into (B, n_heads, N, d_k) which is what I want. Let's try that!"
   ]
  },
  {
   "cell_type": "markdown",
   "metadata": {},
   "source": []
  },
  {
   "cell_type": "code",
   "execution_count": 67,
   "metadata": {},
   "outputs": [
    {
     "data": {
      "text/plain": [
       "tensor([[[-0.3742, -0.2658],\n",
       "         [-0.4034, -0.5407],\n",
       "         [-0.3370,  0.4963]],\n",
       "\n",
       "        [[ 0.2576,  0.2798],\n",
       "         [ 0.0304, -0.2960],\n",
       "         [ 0.0977, -0.5391]]])"
      ]
     },
     "execution_count": 67,
     "metadata": {},
     "output_type": "execute_result"
    }
   ],
   "source": [
    "torch.manual_seed(0)\n",
    "n_heads = 2\n",
    "B = 1\n",
    "N = 5\n",
    "d_k = 2\n",
    "T = 3\n",
    "\n",
    "x = torch.randn((B, N, T))\n",
    "w_Q = torch.empty((n_heads, T, d_k))\n",
    "r = (1/T)**.5\n",
    "torch.nn.init.uniform_(w_Q, a=-r, b=r)\n",
    "\n",
    "w_Q"
   ]
  },
  {
   "cell_type": "code",
   "execution_count": 68,
   "metadata": {},
   "outputs": [
    {
     "data": {
      "text/plain": [
       "tensor([[ 1.5410, -0.2934, -2.1788],\n",
       "        [ 0.5684, -1.0845, -1.3986],\n",
       "        [ 0.4033,  0.8380, -0.7193],\n",
       "        [-0.4033, -0.5966,  0.1820],\n",
       "        [-0.8567,  1.1006, -1.0712]])"
      ]
     },
     "execution_count": 68,
     "metadata": {},
     "output_type": "execute_result"
    }
   ],
   "source": [
    "xT = x.view((-1, T)) # (B * N, T)\n",
    "xT"
   ]
  },
  {
   "cell_type": "code",
   "execution_count": 73,
   "metadata": {},
   "outputs": [
    {
     "data": {
      "text/plain": [
       "tensor([[-0.3742, -0.2658,  0.2576,  0.2798],\n",
       "        [-0.4034, -0.5407,  0.0304, -0.2960],\n",
       "        [-0.3370,  0.4963,  0.0977, -0.5391]])"
      ]
     },
     "execution_count": 73,
     "metadata": {},
     "output_type": "execute_result"
    }
   ],
   "source": [
    "w_QT = w_Q.permute([1,0,2]).contiguous().view(T, -1) # (T, n_heads * d_k)\n",
    "w_QT"
   ]
  },
  {
   "cell_type": "code",
   "execution_count": 74,
   "metadata": {},
   "outputs": [
    {
     "data": {
      "text/plain": [
       "tensor([[ 0.2760, -1.3322,  0.1753,  1.6926],\n",
       "        [ 0.6961, -0.2588, -0.0231,  1.2340],\n",
       "        [-0.2466, -0.9173,  0.0591,  0.2525],\n",
       "        [ 0.3303,  0.5202, -0.1042, -0.0344],\n",
       "        [ 0.2377, -0.8991, -0.2919,  0.0119]])"
      ]
     },
     "execution_count": 74,
     "metadata": {},
     "output_type": "execute_result"
    }
   ],
   "source": [
    "out = xT@w_QT # (B*N, n_heads*d_k)\n",
    "out"
   ]
  },
  {
   "cell_type": "code",
   "execution_count": 75,
   "metadata": {},
   "outputs": [
    {
     "data": {
      "text/plain": [
       "tensor([[[[ 0.2760, -1.3322],\n",
       "          [ 0.6961, -0.2588],\n",
       "          [-0.2466, -0.9173],\n",
       "          [ 0.3303,  0.5202],\n",
       "          [ 0.2377, -0.8991]],\n",
       "\n",
       "         [[ 0.1753,  1.6926],\n",
       "          [-0.0231,  1.2340],\n",
       "          [ 0.0591,  0.2525],\n",
       "          [-0.1042, -0.0344],\n",
       "          [-0.2919,  0.0119]]]])"
      ]
     },
     "execution_count": 75,
     "metadata": {},
     "output_type": "execute_result"
    }
   ],
   "source": [
    "out_fmt = out.view((B, N, n_heads, d_k)).permute([0,2,1,3]).contiguous() # (B, n_heads, N, d_k)\n",
    "out_fmt"
   ]
  },
  {
   "cell_type": "code",
   "execution_count": 81,
   "metadata": {},
   "outputs": [
    {
     "data": {
      "text/plain": [
       "True"
      ]
     },
     "execution_count": 81,
     "metadata": {},
     "output_type": "execute_result"
    }
   ],
   "source": [
    "out_fmt_2 = torch.empty((B, n_heads, N, d_k))\n",
    "for i in range(n_heads):\n",
    "\tout_fmt_2[:, i, :, :] = x@w_Q[i, ...]\n",
    "torch.allclose(out_fmt_2, out_fmt)"
   ]
  }
 ],
 "metadata": {
  "kernelspec": {
   "display_name": ".venv",
   "language": "python",
   "name": "python3"
  },
  "language_info": {
   "codemirror_mode": {
    "name": "ipython",
    "version": 3
   },
   "file_extension": ".py",
   "mimetype": "text/x-python",
   "name": "python",
   "nbconvert_exporter": "python",
   "pygments_lexer": "ipython3",
   "version": "3.10.16"
  }
 },
 "nbformat": 4,
 "nbformat_minor": 2
}
